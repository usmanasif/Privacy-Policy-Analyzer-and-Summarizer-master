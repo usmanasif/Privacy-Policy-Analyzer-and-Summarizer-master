{
  "nbformat": 4,
  "nbformat_minor": 0,
  "metadata": {
    "colab": {
      "name": "RougeResultsAndDisplay.ipynb",
      "provenance": [],
      "collapsed_sections": []
    },
    "kernelspec": {
      "name": "python3",
      "display_name": "Python 3"
    }
  },
  "cells": [
    {
      "cell_type": "code",
      "metadata": {
        "id": "2I90RoFbJQ2Q",
        "colab_type": "code",
        "colab": {
          "base_uri": "https://localhost:8080/",
          "height": 122
        },
        "outputId": "1bf0d81c-161b-47ae-dc9a-66d33a3d5ab4"
      },
      "source": [
        "!pip install rouge"
      ],
      "execution_count": 2,
      "outputs": [
        {
          "output_type": "stream",
          "text": [
            "Collecting rouge\n",
            "  Downloading https://files.pythonhosted.org/packages/43/cc/e18e33be20971ff73a056ebdb023476b5a545e744e3fc22acd8c758f1e0d/rouge-1.0.0-py3-none-any.whl\n",
            "Requirement already satisfied: six in /usr/local/lib/python3.6/dist-packages (from rouge) (1.12.0)\n",
            "Installing collected packages: rouge\n",
            "Successfully installed rouge-1.0.0\n"
          ],
          "name": "stdout"
        }
      ]
    },
    {
      "cell_type": "code",
      "metadata": {
        "id": "qxpJFuC-JWkQ",
        "colab_type": "code",
        "colab": {
          "base_uri": "https://localhost:8080/",
          "height": 54
        },
        "outputId": "3ac57dd7-fb96-43e7-971a-329e43677eb8"
      },
      "source": [
        "from rouge import Rouge\n",
        "#Enter generated summary in hypothesis variable \n",
        "hypothesis = \"google analytics google google and a google analytics ad ad neither herein important important customer customer may link information about your services activity your your from our ad services .\"\n",
        "#Enter Original reference text in refrence variable \n",
        "reference = \" When you visit sites that use Google Analytics, Google and a Google Analytics customer may link information about your activity from that site with activity from other sites that use our ad services.We use information we collect, like your email address, to interact with you directly.\" \n",
        "rouge = Rouge()\n",
        "scores = rouge.get_scores(hypothesis, reference)\n",
        "print (scores)"
      ],
      "execution_count": 18,
      "outputs": [
        {
          "output_type": "stream",
          "text": [
            "[{'rouge-1': {'f': 0.363636358880081, 'p': 0.4666666666666667, 'r': 0.2978723404255319}, 'rouge-2': {'f': 0.21333332859022233, 'p': 0.27586206896551724, 'r': 0.17391304347826086}, 'rouge-l': {'f': 0.4905660331363475, 'p': 0.6842105263157895, 'r': 0.38235294117647056}}]\n"
          ],
          "name": "stdout"
        }
      ]
    },
    {
      "cell_type": "markdown",
      "metadata": {
        "id": "1xjSwUXJQxTn",
        "colab_type": "text"
      },
      "source": [
        "##Extracted Summary: \n",
        "When you use Twitter, even if you’re just looking at Tweets, we receive some personal information from you like the type of device you’re using and your IP address.In addition to information you share with us, we use your Tweets, content you’ve read, Liked, or Retweeted, and other information to determine what topics you’re interested in, your age, the languages you speak, and other signals to show you more relevant content.\n",
        "\n",
        "##Original Text:\n",
        "When you use Twitter, even if you’re just looking at Tweets, we receive some personal information from you like the type of device you’re using and your IP address. You can choose to share additional information with us like your email address, phone number, address book contacts, and a public profile. We use this information for things like keeping your account secure and showing you more relevant Tweets, people to follow, events, and ads.We give you control through your settings to limit the data we collect from you and how we use it, and to control things like account security, marketing preferences, apps that can access your account, and address book contacts you’ve uploaded to Twitter. You can also download information you have shared on Twitter. In addition to information you share with us, we use your Tweets, content you’ve read, Liked, or Retweeted, and other information to determine what topics you’re interested in, your age, the languages you speak, and other signals to show you more relevant content. We give you transparency into that information, and you can modify or correct it at any time.\"\n"
      ]
    },
    {
      "cell_type": "code",
      "metadata": {
        "id": "YPsAr4i6RrpY",
        "colab_type": "code",
        "colab": {
          "base_uri": "https://localhost:8080/",
          "height": 34
        },
        "outputId": "49d75f8a-a100-45a3-d296-0002315ae856"
      },
      "source": [
        "#type(scores)\n",
        "#scores[0]['rouge-1']['f']"
      ],
      "execution_count": 38,
      "outputs": [
        {
          "output_type": "execute_result",
          "data": {
            "text/plain": [
              "0.5576923035872783"
            ]
          },
          "metadata": {
            "tags": []
          },
          "execution_count": 38
        }
      ]
    },
    {
      "cell_type": "code",
      "metadata": {
        "id": "DdeiwvBFXx5G",
        "colab_type": "code",
        "colab": {}
      },
      "source": [
        ""
      ],
      "execution_count": 0,
      "outputs": []
    },
    {
      "cell_type": "markdown",
      "metadata": {
        "id": "i133-iOKXyGE",
        "colab_type": "text"
      },
      "source": [
        "1) **SENTENCE:**\n",
        "When you visit sites that use Google Analytics, Google and a Google Analytics customer may link information about your activity from that site with activity from other sites that use our ad services.We use information we collect, like your email address, to interact with you directly.\n",
        "\n",
        "**Abtractive SUMMARY:**\n",
        "google analytics google google and a google analytics ad ad neither herein important important customer customer may link information about your services activity your your from our ad services .\"\n",
        "\n",
        "\n",
        "\n",
        "2)\n",
        "**SENTENCE:**\n",
        "You can also visit the Privacy Checkup, which provides an opportunity to review and adjust important privacy settings.Browser settings: For example, you can configure your browser to indicate when Google has set a cookie in your browser.Remember, when you share information publicly, your content may become accessible through search engines, including Google Search.\n",
        "\n",
        "**Abstractive SUMMARY:**\n",
        "google cs google google and a google analytics cookie your content engines including google analytics analytics search to to to review review settingsbrowser settings which provides an opportunity to review when you share share  informatin.\n",
        "\n",
        "\n",
        "3)\n",
        "**SENTENCE:**\n",
        "When you delete data, we follow a deletion process to make sure that your data is safely and completely removed from our servers or retained only in anonymized form.We maintain servers around the world and your information may be processed on servers located outside of the country where you live.We change this Privacy Policy from time to time.\n",
        "\n",
        "**Abtsractive SUMMARY:**\n",
        "data delete data we follow a deletion process to make sure that your data is safely and completely removed from our servers or retained only in anonymized formwe maintain servers around the world and your information may be processed on servers policy from time outside of the country ."
      ]
    },
    {
      "cell_type": "code",
      "metadata": {
        "id": "wOQVtoldRpiT",
        "colab_type": "code",
        "colab": {
          "base_uri": "https://localhost:8080/",
          "height": 326
        },
        "outputId": "7d95d6f0-018c-4158-c0dc-615bab810083"
      },
      "source": [
        "import numpy as np\n",
        "import matplotlib.pyplot as plt\n",
        "\n",
        "category_names = ['F1 ', ' Precision',\n",
        "                  'Recall']\n",
        "results = {\n",
        "    'Rouge-1': [scores[0]['rouge-1']['f'], scores[0]['rouge-1']['p'], scores[0]['rouge-1']['r']],\n",
        "    'Rouge-2': [scores[0]['rouge-2']['f'], scores[0]['rouge-2']['p'], scores[0]['rouge-2']['r']],\n",
        "    'Rouge-L': [scores[0]['rouge-l']['f'], scores[0]['rouge-l']['p'], scores[0]['rouge-l']['r']]\n",
        "}\n",
        "\n",
        "\n",
        "def survey(results, category_names):\n",
        "    \"\"\"\n",
        "    Parameters\n",
        "    ----------\n",
        "    results : dict\n",
        "        A mapping from question labels to a list of answers per category.\n",
        "        It is assumed all lists contain the same number of entries and that\n",
        "        it matches the length of *category_names*.\n",
        "    category_names : list of str\n",
        "        The category labels.\n",
        "    \"\"\"\n",
        "    labels = list(results.keys())\n",
        "    data = np.array(list(results.values()))\n",
        "    data_cum = data.cumsum(axis=1)\n",
        "    category_colors = plt.get_cmap('RdYlGn')(\n",
        "        np.linspace(0.15, 0.85, data.shape[1]))\n",
        "    #print(data_cum)\n",
        "    fig, ax = plt.subplots(figsize=(9.2, 5))\n",
        "    ax.invert_yaxis()\n",
        "    ax.xaxis.set_visible(False)\n",
        "    ax.set_xlim(0, np.sum(data, axis=1).max())\n",
        "\n",
        "    for i, (colname, color) in enumerate(zip(category_names, category_colors)):\n",
        "        widths = data[:, i]\n",
        "        starts = data_cum[:, i] - widths\n",
        "        ax.barh(labels, widths, left=starts, height=0.5,\n",
        "                label=colname, color=color)\n",
        "        xcenters = starts + widths / 2\n",
        "\n",
        "        r, g, b, _ = color\n",
        "        text_color = 'white' if r * g * b < 0.5 else 'darkgrey'\n",
        "        for y, (x, c) in enumerate(zip(xcenters, widths)):\n",
        "            ax.text(x, y, format(float(c),'.4f'), ha='center', va='center',\n",
        "                    color=text_color)\n",
        "    ax.legend(ncol=len(category_names), bbox_to_anchor=(0, 1),\n",
        "              loc='lower left', fontsize='small')\n",
        "\n",
        "    return fig, ax\n",
        "\n",
        "\n",
        "survey(results, category_names)\n",
        "plt.show()"
      ],
      "execution_count": 19,
      "outputs": [
        {
          "output_type": "display_data",
          "data": {
            "image/png": "[encoded data removed]",
            "text/plain": [
              "<Figure size 662.4x360 with 1 Axes>"
            ]
          },
          "metadata": {
            "tags": [],
            "needs_background": "light"
          }
        }
      ]
    },
    {
      "cell_type": "code",
      "metadata": {
        "id": "ioQu6L6JQoE-",
        "colab_type": "code",
        "colab": {}
      },
      "source": [
        ""
      ],
      "execution_count": 0,
      "outputs": []
    }
  ]
}